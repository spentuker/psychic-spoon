{
 "cells": [
  {
   "cell_type": "code",
   "execution_count": 1,
   "id": "e4dfbcd7",
   "metadata": {},
   "outputs": [
    {
     "name": "stdout",
     "output_type": "stream",
     "text": [
      "1 \n",
      "0 1 \n",
      "1 0 1 \n",
      "0 1 0 1 \n",
      "1 0 1 0 1 \n"
     ]
    }
   ],
   "source": [
    "n=5\n",
    "num=1\n",
    "for i in range(n):\n",
    "    for j in range(i+1):\n",
    "       print(num,end=' ')\n",
    "       num^=1\n",
    "    num=i%2\n",
    "    print()"
   ]
  },
  {
   "cell_type": "code",
   "execution_count": 23,
   "id": "e4e7f523",
   "metadata": {},
   "outputs": [
    {
     "name": "stdout",
     "output_type": "stream",
     "text": [
      "1      1\n",
      "12    21\n",
      "123  321\n",
      "12344321\n"
     ]
    }
   ],
   "source": [
    "n=5\n",
    "for i in range(1,n):\n",
    "    for j in range(0,i):\n",
    "        print(j+1,end='')\n",
    "    print(\" \"*(n-i-1)*2,end='')\n",
    "    t=i\n",
    "    while(t>0):\n",
    "        print(t,end='')\n",
    "        t-=1\n",
    "    print()\n",
    "        "
   ]
  },
  {
   "cell_type": "code",
   "execution_count": 63,
   "id": "6094e52a",
   "metadata": {},
   "outputs": [
    {
     "name": "stdout",
     "output_type": "stream",
     "text": [
      "A\n",
      "AB\n",
      "ABC\n",
      "ABCD\n",
      "ABCDE\n"
     ]
    }
   ],
   "source": [
    "ch=65\n",
    "n=5\n",
    "for i in range(n):\n",
    "    for j in range(i+1):\n",
    "        print(chr(ch),end='')\n",
    "        ch+=1\n",
    "    ch=65\n",
    "    print()"
   ]
  },
  {
   "cell_type": "code",
   "execution_count": 68,
   "id": "52133c1d",
   "metadata": {},
   "outputs": [
    {
     "name": "stdout",
     "output_type": "stream",
     "text": [
      "ABCDE\n",
      "ABCD\n",
      "ABC\n",
      "AB\n",
      "A\n"
     ]
    }
   ],
   "source": [
    "ch=65\n",
    "n=5\n",
    "for i in range(n,0,-1):\n",
    "    for j in range(i):\n",
    "        print(chr(ch),end='')\n",
    "        ch+=1\n",
    "    ch=65\n",
    "    print()"
   ]
  },
  {
   "cell_type": "code",
   "execution_count": 88,
   "id": "f8fe7733",
   "metadata": {},
   "outputs": [
    {
     "name": "stdout",
     "output_type": "stream",
     "text": [
      "    \n",
      "   A\n",
      "  ABA\n",
      " ABCBA\n",
      "ABCDCBA\n"
     ]
    }
   ],
   "source": [
    "ch=64\n",
    "n=5\n",
    "for i in range(n):\n",
    "    \n",
    "    print(\" \"*(n-i-1),end='')\n",
    "    for j in range(i):\n",
    "        ch+=1\n",
    "        print(chr(ch),end='')\n",
    "       \n",
    "    # ch-=1\n",
    "    for j in range(i-1):\n",
    "        ch-=1\n",
    "        print(chr(ch),end='')\n",
    "        \n",
    "    ch=64\n",
    "    print()"
   ]
  },
  {
   "cell_type": "code",
   "execution_count": 96,
   "id": "17d7089e",
   "metadata": {},
   "outputs": [
    {
     "name": "stdout",
     "output_type": "stream",
     "text": [
      "E\n",
      "DE\n",
      "CDE\n",
      "BCDE\n",
      "ABCDE\n"
     ]
    }
   ],
   "source": [
    "ch=65\n",
    "n=5\n",
    "ch_n=ch+n\n",
    "\n",
    "for i in range(1,n+1):\n",
    "    for j in range(ch_n-i,ch_n):\n",
    "        print(chr(j),end='')\n",
    "    print()"
   ]
  },
  {
   "cell_type": "code",
   "execution_count": 108,
   "id": "795f3ca1",
   "metadata": {},
   "outputs": [
    {
     "name": "stdout",
     "output_type": "stream",
     "text": [
      "['e', 'c']\n"
     ]
    },
    {
     "data": {
      "text/plain": [
       "['e', 'c']"
      ]
     },
     "execution_count": 108,
     "metadata": {},
     "output_type": "execute_result"
    }
   ],
   "source": [
    "a=['e']\n",
    "b=a\n",
    "b.append('c')\n",
    "print(a)\n",
    "b"
   ]
  },
  {
   "cell_type": "code",
   "execution_count": 110,
   "id": "7bb40919",
   "metadata": {},
   "outputs": [
    {
     "data": {
      "text/plain": [
       "10"
      ]
     },
     "execution_count": 110,
     "metadata": {},
     "output_type": "execute_result"
    }
   ],
   "source": [
    "a=10\n",
    "b=a\n",
    "b+=10\n",
    "a"
   ]
  },
  {
   "cell_type": "code",
   "execution_count": 21,
   "id": "bd3086dd",
   "metadata": {},
   "outputs": [
    {
     "name": "stdout",
     "output_type": "stream",
     "text": [
      "****\n",
      "*  *\n",
      "*  *\n",
      "****"
     ]
    }
   ],
   "source": [
    "n=5\n",
    "n-=1\n",
    "print(\"*\"*(n),end='')\n",
    "print()\n",
    "\n",
    "for j in range(1,n,2):\n",
    "    for i in range(n):\n",
    "        if(i==0 or i==n-1):\n",
    "            print('*',end='')\n",
    "        else:\n",
    "            print(\" \",end='')\n",
    "    print()\n",
    "print(\"*\"*(n),end='')\n",
    " "
   ]
  },
  {
   "cell_type": "code",
   "execution_count": null,
   "id": "fda58ff5",
   "metadata": {},
   "outputs": [],
   "source": [
    "# for the above problem, you're just supposed to print on the borders right, so why not make a if cond. just for that? "
   ]
  },
  {
   "cell_type": "code",
   "execution_count": 4,
   "id": "f588f59a",
   "metadata": {},
   "outputs": [
    {
     "name": "stdout",
     "output_type": "stream",
     "text": [
      "6 6 6 6 6 6 6 6 6 6 6 \n",
      "6 5 5 5 5 5 5 5 5 5 6 \n",
      "6 5 4 4 4 4 4 4 4 5 6 \n",
      "6 5 4 3 3 3 3 3 4 5 6 \n",
      "6 5 4 3 2 2 2 3 4 5 6 \n",
      "6 5 4 3 2 1 2 3 4 5 6 \n",
      "6 5 4 3 2 2 2 3 4 5 6 \n",
      "6 5 4 3 3 3 3 3 4 5 6 \n",
      "6 5 4 4 4 4 4 4 4 5 6 \n",
      "6 5 5 5 5 5 5 5 5 5 6 \n",
      "6 6 6 6 6 6 6 6 6 6 6 \n"
     ]
    }
   ],
   "source": [
    "n=6\n",
    "for i in range(2*n-1):\n",
    "    for j in range(2*n-1):\n",
    "        val=n-min(i,j,2*n-2-i,2*n-2-j)\n",
    "        print(val,end=' ')\n",
    "    print()\n",
    "    "
   ]
  }
 ],
 "metadata": {
  "kernelspec": {
   "display_name": "base",
   "language": "python",
   "name": "python3"
  },
  "language_info": {
   "codemirror_mode": {
    "name": "ipython",
    "version": 3
   },
   "file_extension": ".py",
   "mimetype": "text/x-python",
   "name": "python",
   "nbconvert_exporter": "python",
   "pygments_lexer": "ipython3",
   "version": "3.10.9"
  }
 },
 "nbformat": 4,
 "nbformat_minor": 5
}
