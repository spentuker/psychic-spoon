{
 "cells": [
  {
   "cell_type": "code",
   "execution_count": 1,
   "id": "e4dfbcd7",
   "metadata": {},
   "outputs": [
    {
     "name": "stdout",
     "output_type": "stream",
     "text": [
      "1 \n",
      "0 1 \n",
      "1 0 1 \n",
      "0 1 0 1 \n",
      "1 0 1 0 1 \n"
     ]
    }
   ],
   "source": [
    "n=5\n",
    "num=1\n",
    "for i in range(n):\n",
    "    for j in range(i+1):\n",
    "       print(num,end=' ')\n",
    "       num^=1\n",
    "    num=i%2\n",
    "    print()"
   ]
  },
  {
   "cell_type": "code",
   "execution_count": 23,
   "id": "e4e7f523",
   "metadata": {},
   "outputs": [
    {
     "name": "stdout",
     "output_type": "stream",
     "text": [
      "1      1\n",
      "12    21\n",
      "123  321\n",
      "12344321\n"
     ]
    }
   ],
   "source": [
    "n=5\n",
    "for i in range(1,n):\n",
    "    for j in range(0,i):\n",
    "        print(j+1,end='')\n",
    "    print(\" \"*(n-i-1)*2,end='')\n",
    "    t=i\n",
    "    while(t>0):\n",
    "        print(t,end='')\n",
    "        t-=1\n",
    "    print()\n",
    "        "
   ]
  },
  {
   "cell_type": "code",
   "execution_count": 63,
   "id": "6094e52a",
   "metadata": {},
   "outputs": [
    {
     "name": "stdout",
     "output_type": "stream",
     "text": [
      "A\n",
      "AB\n",
      "ABC\n",
      "ABCD\n",
      "ABCDE\n"
     ]
    }
   ],
   "source": [
    "ch=65\n",
    "n=5\n",
    "for i in range(n):\n",
    "    for j in range(i+1):\n",
    "        print(chr(ch),end='')\n",
    "        ch+=1\n",
    "    ch=65\n",
    "    print()"
   ]
  },
  {
   "cell_type": "code",
   "execution_count": 68,
   "id": "52133c1d",
   "metadata": {},
   "outputs": [
    {
     "name": "stdout",
     "output_type": "stream",
     "text": [
      "ABCDE\n",
      "ABCD\n",
      "ABC\n",
      "AB\n",
      "A\n"
     ]
    }
   ],
   "source": [
    "ch=65\n",
    "n=5\n",
    "for i in range(n,0,-1):\n",
    "    for j in range(i):\n",
    "        print(chr(ch),end='')\n",
    "        ch+=1\n",
    "    ch=65\n",
    "    print()"
   ]
  },
  {
   "cell_type": "code",
   "execution_count": 88,
   "id": "f8fe7733",
   "metadata": {},
   "outputs": [
    {
     "name": "stdout",
     "output_type": "stream",
     "text": [
      "    \n",
      "   A\n",
      "  ABA\n",
      " ABCBA\n",
      "ABCDCBA\n"
     ]
    }
   ],
   "source": [
    "ch=64\n",
    "n=5\n",
    "for i in range(n):\n",
    "    \n",
    "    print(\" \"*(n-i-1),end='')\n",
    "    for j in range(i):\n",
    "        ch+=1\n",
    "        print(chr(ch),end='')\n",
    "       \n",
    "    # ch-=1\n",
    "    for j in range(i-1):\n",
    "        ch-=1\n",
    "        print(chr(ch),end='')\n",
    "        \n",
    "    ch=64\n",
    "    print()"
   ]
  },
  {
   "cell_type": "code",
   "execution_count": 96,
   "id": "17d7089e",
   "metadata": {},
   "outputs": [
    {
     "name": "stdout",
     "output_type": "stream",
     "text": [
      "E\n",
      "DE\n",
      "CDE\n",
      "BCDE\n",
      "ABCDE\n"
     ]
    }
   ],
   "source": [
    "ch=65\n",
    "n=5\n",
    "ch_n=ch+n\n",
    "\n",
    "for i in range(1,n+1):\n",
    "    for j in range(ch_n-i,ch_n):\n",
    "        print(chr(j),end='')\n",
    "    print()"
   ]
  },
  {
   "cell_type": "code",
   "execution_count": 108,
   "id": "795f3ca1",
   "metadata": {},
   "outputs": [
    {
     "name": "stdout",
     "output_type": "stream",
     "text": [
      "['e', 'c']\n"
     ]
    },
    {
     "data": {
      "text/plain": [
       "['e', 'c']"
      ]
     },
     "execution_count": 108,
     "metadata": {},
     "output_type": "execute_result"
    }
   ],
   "source": [
    "a=['e']\n",
    "b=a\n",
    "b.append('c')\n",
    "print(a)\n",
    "b"
   ]
  },
  {
   "cell_type": "code",
   "execution_count": 110,
   "id": "7bb40919",
   "metadata": {},
   "outputs": [
    {
     "data": {
      "text/plain": [
       "10"
      ]
     },
     "execution_count": 110,
     "metadata": {},
     "output_type": "execute_result"
    }
   ],
   "source": [
    "a=10\n",
    "b=a\n",
    "b+=10\n",
    "a"
   ]
  },
  {
   "cell_type": "code",
   "execution_count": 21,
   "id": "bd3086dd",
   "metadata": {},
   "outputs": [
    {
     "name": "stdout",
     "output_type": "stream",
     "text": [
      "****\n",
      "*  *\n",
      "*  *\n",
      "****"
     ]
    }
   ],
   "source": [
    "n=5\n",
    "n-=1\n",
    "print(\"*\"*(n),end='')\n",
    "print()\n",
    "\n",
    "for j in range(1,n,2):\n",
    "    for i in range(n):\n",
    "        if(i==0 or i==n-1):\n",
    "            print('*',end='')\n",
    "        else:\n",
    "            print(\" \",end='')\n",
    "    print()\n",
    "print(\"*\"*(n),end='')\n",
    " "
   ]
  },
  {
   "cell_type": "code",
   "execution_count": null,
   "id": "fda58ff5",
   "metadata": {},
   "outputs": [],
   "source": [
    "# for the above problem, you're just supposed to print on the borders right, so why not make a if cond. just for that? "
   ]
  },
  {
   "cell_type": "code",
   "execution_count": 4,
   "id": "f588f59a",
   "metadata": {},
   "outputs": [
    {
     "name": "stdout",
     "output_type": "stream",
     "text": [
      "6 6 6 6 6 6 6 6 6 6 6 \n",
      "6 5 5 5 5 5 5 5 5 5 6 \n",
      "6 5 4 4 4 4 4 4 4 5 6 \n",
      "6 5 4 3 3 3 3 3 4 5 6 \n",
      "6 5 4 3 2 2 2 3 4 5 6 \n",
      "6 5 4 3 2 1 2 3 4 5 6 \n",
      "6 5 4 3 2 2 2 3 4 5 6 \n",
      "6 5 4 3 3 3 3 3 4 5 6 \n",
      "6 5 4 4 4 4 4 4 4 5 6 \n",
      "6 5 5 5 5 5 5 5 5 5 6 \n",
      "6 6 6 6 6 6 6 6 6 6 6 \n"
     ]
    }
   ],
   "source": [
    "n=6\n",
    "for i in range(2*n-1):\n",
    "    for j in range(2*n-1):\n",
    "        val=n-min(i,j,2*n-2-i,2*n-2-j)\n",
    "        print(val,end=' ')\n",
    "    print()\n",
    "    "
   ]
  },
  {
   "cell_type": "code",
   "execution_count": 12,
   "id": "afa4c10c",
   "metadata": {},
   "outputs": [
    {
     "name": "stdout",
     "output_type": "stream",
     "text": [
      "[2, 5, 1, 3]\n",
      "[2, 5, 1, 3]\n",
      "[1, 2, 3, 5]\n",
      "[1, 2, 3, 5]\n"
     ]
    }
   ],
   "source": [
    "#merger sort \n",
    "def divide(arr,low,high):\n",
    "    if low>=high:\n",
    "        return\n",
    "    mid=(low+high)//2\n",
    "    divide(arr,low,mid)\n",
    "    divide(arr,mid+1,high)\n",
    "    ms(arr,low,mid,high)\n",
    "    print(arr)\n",
    "\n",
    "def ms(arr,low,mid,high):\n",
    "    left=low\n",
    "    right=mid+1\n",
    "    temp=[]\n",
    "    while(left<=mid and right<=high):\n",
    "        if(arr[left]<arr[right]):\n",
    "            temp.append(arr[left])\n",
    "            left+=1\n",
    "        else:\n",
    "            temp.append(arr[right])\n",
    "            right+=1\n",
    "    while(left<=mid):\n",
    "        temp.append(arr[left])\n",
    "        left+=1\n",
    "    while(right<=high):\n",
    "        temp.append(arr[right])\n",
    "        right+=1\n",
    "    for i in range(low,high+1):\n",
    "        arr[i]=temp[i-low]\n",
    "    \n",
    "    \n",
    "    \n",
    "   \n",
    "\n",
    "arr=[5,2,1,3]\n",
    "divide(arr,0,len(arr)-1)\n",
    "print(arr)\n"
   ]
  },
  {
   "cell_type": "code",
   "execution_count": 29,
   "id": "60cc0268",
   "metadata": {},
   "outputs": [
    {
     "name": "stdout",
     "output_type": "stream",
     "text": [
      "My,name is:Shailesh                   \n"
     ]
    },
    {
     "ename": "TypeError",
     "evalue": "unhashable type: 'list'",
     "output_type": "error",
     "traceback": [
      "\u001b[1;31m---------------------------------------------------------------------------\u001b[0m",
      "\u001b[1;31mTypeError\u001b[0m                                 Traceback (most recent call last)",
      "Cell \u001b[1;32mIn[29], line 4\u001b[0m\n\u001b[0;32m      2\u001b[0m s\u001b[38;5;241m=\u001b[39m\u001b[38;5;124m\"\u001b[39m\u001b[38;5;124mMy,name is:Shailesh                   \u001b[39m\u001b[38;5;124m\"\u001b[39m\n\u001b[0;32m      3\u001b[0m \u001b[38;5;28mprint\u001b[39m(s)\n\u001b[1;32m----> 4\u001b[0m s\u001b[38;5;241m=\u001b[39m \u001b[43mre\u001b[49m\u001b[38;5;241;43m.\u001b[39;49m\u001b[43msub\u001b[49m\u001b[43m(\u001b[49m\u001b[43m[\u001b[49m\u001b[38;5;124;43m\"\u001b[39;49m\u001b[38;5;124;43ma-zA-z0-9\u001b[39;49m\u001b[38;5;124;43m\"\u001b[39;49m\u001b[43m]\u001b[49m\u001b[43m,\u001b[49m\u001b[38;5;124;43m\"\u001b[39;49m\u001b[38;5;124;43m\"\u001b[39;49m\u001b[43m,\u001b[49m\u001b[43ms\u001b[49m\u001b[43m)\u001b[49m\n\u001b[0;32m      5\u001b[0m s\n",
      "File \u001b[1;32mc:\\Users\\spent\\anaconda3\\lib\\re.py:209\u001b[0m, in \u001b[0;36msub\u001b[1;34m(pattern, repl, string, count, flags)\u001b[0m\n\u001b[0;32m    202\u001b[0m \u001b[38;5;28;01mdef\u001b[39;00m \u001b[38;5;21msub\u001b[39m(pattern, repl, string, count\u001b[38;5;241m=\u001b[39m\u001b[38;5;241m0\u001b[39m, flags\u001b[38;5;241m=\u001b[39m\u001b[38;5;241m0\u001b[39m):\n\u001b[0;32m    203\u001b[0m \u001b[38;5;250m    \u001b[39m\u001b[38;5;124;03m\"\"\"Return the string obtained by replacing the leftmost\u001b[39;00m\n\u001b[0;32m    204\u001b[0m \u001b[38;5;124;03m    non-overlapping occurrences of the pattern in string by the\u001b[39;00m\n\u001b[0;32m    205\u001b[0m \u001b[38;5;124;03m    replacement repl.  repl can be either a string or a callable;\u001b[39;00m\n\u001b[0;32m    206\u001b[0m \u001b[38;5;124;03m    if a string, backslash escapes in it are processed.  If it is\u001b[39;00m\n\u001b[0;32m    207\u001b[0m \u001b[38;5;124;03m    a callable, it's passed the Match object and must return\u001b[39;00m\n\u001b[0;32m    208\u001b[0m \u001b[38;5;124;03m    a replacement string to be used.\"\"\"\u001b[39;00m\n\u001b[1;32m--> 209\u001b[0m     \u001b[38;5;28;01mreturn\u001b[39;00m \u001b[43m_compile\u001b[49m\u001b[43m(\u001b[49m\u001b[43mpattern\u001b[49m\u001b[43m,\u001b[49m\u001b[43m \u001b[49m\u001b[43mflags\u001b[49m\u001b[43m)\u001b[49m\u001b[38;5;241m.\u001b[39msub(repl, string, count)\n",
      "File \u001b[1;32mc:\\Users\\spent\\anaconda3\\lib\\re.py:293\u001b[0m, in \u001b[0;36m_compile\u001b[1;34m(pattern, flags)\u001b[0m\n\u001b[0;32m    291\u001b[0m     flags \u001b[38;5;241m=\u001b[39m flags\u001b[38;5;241m.\u001b[39mvalue\n\u001b[0;32m    292\u001b[0m \u001b[38;5;28;01mtry\u001b[39;00m:\n\u001b[1;32m--> 293\u001b[0m     \u001b[38;5;28;01mreturn\u001b[39;00m \u001b[43m_cache\u001b[49m\u001b[43m[\u001b[49m\u001b[38;5;28;43mtype\u001b[39;49m\u001b[43m(\u001b[49m\u001b[43mpattern\u001b[49m\u001b[43m)\u001b[49m\u001b[43m,\u001b[49m\u001b[43m \u001b[49m\u001b[43mpattern\u001b[49m\u001b[43m,\u001b[49m\u001b[43m \u001b[49m\u001b[43mflags\u001b[49m\u001b[43m]\u001b[49m\n\u001b[0;32m    294\u001b[0m \u001b[38;5;28;01mexcept\u001b[39;00m \u001b[38;5;167;01mKeyError\u001b[39;00m:\n\u001b[0;32m    295\u001b[0m     \u001b[38;5;28;01mpass\u001b[39;00m\n",
      "\u001b[1;31mTypeError\u001b[0m: unhashable type: 'list'"
     ]
    }
   ],
   "source": [
    "import re\n",
    "s=\"My,name is:Shailesh                   \"\n",
    "print(s)\n",
    "s= re.sub([\"a-zA-z0-9\"],\"\",s)\n",
    "s"
   ]
  },
  {
   "cell_type": "code",
   "execution_count": null,
   "id": "97c8205a",
   "metadata": {},
   "outputs": [],
   "source": [
    "arr=[]\n",
    "arr.a"
   ]
  },
  {
   "cell_type": "code",
   "execution_count": null,
   "id": "79998e63",
   "metadata": {},
   "outputs": [],
   "source": []
  }
 ],
 "metadata": {
  "kernelspec": {
   "display_name": "base",
   "language": "python",
   "name": "python3"
  },
  "language_info": {
   "codemirror_mode": {
    "name": "ipython",
    "version": 3
   },
   "file_extension": ".py",
   "mimetype": "text/x-python",
   "name": "python",
   "nbconvert_exporter": "python",
   "pygments_lexer": "ipython3",
   "version": "3.10.9"
  }
 },
 "nbformat": 4,
 "nbformat_minor": 5
}
