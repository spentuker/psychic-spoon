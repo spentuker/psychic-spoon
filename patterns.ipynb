{
 "cells": [
  {
   "cell_type": "code",
   "execution_count": 1,
   "id": "e4dfbcd7",
   "metadata": {},
   "outputs": [
    {
     "name": "stdout",
     "output_type": "stream",
     "text": [
      "1 \n",
      "0 1 \n",
      "1 0 1 \n",
      "0 1 0 1 \n",
      "1 0 1 0 1 \n"
     ]
    }
   ],
   "source": [
    "n=5\n",
    "num=1\n",
    "for i in range(n):\n",
    "    for j in range(i+1):\n",
    "       print(num,end=' ')\n",
    "       num^=1\n",
    "    num=i%2\n",
    "    print()"
   ]
  },
  {
   "cell_type": "code",
   "execution_count": 23,
   "id": "e4e7f523",
   "metadata": {},
   "outputs": [
    {
     "name": "stdout",
     "output_type": "stream",
     "text": [
      "1      1\n",
      "12    21\n",
      "123  321\n",
      "12344321\n"
     ]
    }
   ],
   "source": [
    "n=5\n",
    "for i in range(1,n):\n",
    "    for j in range(0,i):\n",
    "        print(j+1,end='')\n",
    "    print(\" \"*(n-i-1)*2,end='')\n",
    "    t=i\n",
    "    while(t>0):\n",
    "        print(t,end='')\n",
    "        t-=1\n",
    "    print()\n",
    "        "
   ]
  },
  {
   "cell_type": "code",
   "execution_count": 63,
   "id": "6094e52a",
   "metadata": {},
   "outputs": [
    {
     "name": "stdout",
     "output_type": "stream",
     "text": [
      "A\n",
      "AB\n",
      "ABC\n",
      "ABCD\n",
      "ABCDE\n"
     ]
    }
   ],
   "source": [
    "ch=65\n",
    "n=5\n",
    "for i in range(n):\n",
    "    for j in range(i+1):\n",
    "        print(chr(ch),end='')\n",
    "        ch+=1\n",
    "    ch=65\n",
    "    print()"
   ]
  },
  {
   "cell_type": "code",
   "execution_count": 68,
   "id": "52133c1d",
   "metadata": {},
   "outputs": [
    {
     "name": "stdout",
     "output_type": "stream",
     "text": [
      "ABCDE\n",
      "ABCD\n",
      "ABC\n",
      "AB\n",
      "A\n"
     ]
    }
   ],
   "source": [
    "ch=65\n",
    "n=5\n",
    "for i in range(n,0,-1):\n",
    "    for j in range(i):\n",
    "        print(chr(ch),end='')\n",
    "        ch+=1\n",
    "    ch=65\n",
    "    print()"
   ]
  },
  {
   "cell_type": "code",
   "execution_count": 88,
   "id": "f8fe7733",
   "metadata": {},
   "outputs": [
    {
     "name": "stdout",
     "output_type": "stream",
     "text": [
      "    \n",
      "   A\n",
      "  ABA\n",
      " ABCBA\n",
      "ABCDCBA\n"
     ]
    }
   ],
   "source": [
    "ch=64\n",
    "n=5\n",
    "for i in range(n):\n",
    "    \n",
    "    print(\" \"*(n-i-1),end='')\n",
    "    for j in range(i):\n",
    "        ch+=1\n",
    "        print(chr(ch),end='')\n",
    "       \n",
    "    # ch-=1\n",
    "    for j in range(i-1):\n",
    "        ch-=1\n",
    "        print(chr(ch),end='')\n",
    "        \n",
    "    ch=64\n",
    "    print()"
   ]
  },
  {
   "cell_type": "code",
   "execution_count": 96,
   "id": "17d7089e",
   "metadata": {},
   "outputs": [
    {
     "name": "stdout",
     "output_type": "stream",
     "text": [
      "E\n",
      "DE\n",
      "CDE\n",
      "BCDE\n",
      "ABCDE\n"
     ]
    }
   ],
   "source": [
    "ch=65\n",
    "n=5\n",
    "ch_n=ch+n\n",
    "\n",
    "for i in range(1,n+1):\n",
    "    for j in range(ch_n-i,ch_n):\n",
    "        print(chr(j),end='')\n",
    "    print()"
   ]
  },
  {
   "cell_type": "code",
   "execution_count": null,
   "id": "795f3ca1",
   "metadata": {},
   "outputs": [],
   "source": []
  }
 ],
 "metadata": {
  "kernelspec": {
   "display_name": "base",
   "language": "python",
   "name": "python3"
  },
  "language_info": {
   "codemirror_mode": {
    "name": "ipython",
    "version": 3
   },
   "file_extension": ".py",
   "mimetype": "text/x-python",
   "name": "python",
   "nbconvert_exporter": "python",
   "pygments_lexer": "ipython3",
   "version": "3.10.9"
  }
 },
 "nbformat": 4,
 "nbformat_minor": 5
}
